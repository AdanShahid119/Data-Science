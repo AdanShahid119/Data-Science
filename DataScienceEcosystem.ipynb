{
 "cells": [
  {
   "cell_type": "markdown",
   "id": "0a5c60f4-acd1-457a-b5a0-8c43940417b3",
   "metadata": {
    "tags": []
   },
   "source": [
    "# Data Science Tools and Ecosystem"
   ]
  },
  {
   "cell_type": "code",
   "execution_count": 4,
   "id": "21d260a1-5fb7-4ec4-8bee-fbad41b2b53e",
   "metadata": {
    "tags": []
   },
   "outputs": [
    {
     "name": "stdout",
     "output_type": "stream",
     "text": [
      "In this notebook data science tools and ecosystems are summarized\n"
     ]
    }
   ],
   "source": [
    "print(\"In this notebook data science tools and ecosystems are summarized\")"
   ]
  },
  {
   "cell_type": "markdown",
   "id": "1db2b75e-0e67-479c-8dd7-70af3bb35839",
   "metadata": {
    "tags": []
   },
   "source": [
    "**objective**\n",
    "- Learn how to use jupyter notebook\n",
    "- Gain knowledge about libraries of data science\n",
    "- learn how to use github"
   ]
  },
  {
   "cell_type": "markdown",
   "id": "583ec8a8-0922-4c82-8772-bbab4d99d08f",
   "metadata": {
    "tags": []
   },
   "source": [
    "print(\"Some of the popular languages that data scientist used are:\")\n",
    "print(\"1.Python\")\n",
    "print(\"2.R\")\n",
    "print(\"3.SQL\")\n",
    "print(\"4.Javascript\")"
   ]
  },
  {
   "cell_type": "code",
   "execution_count": 10,
   "id": "4e2a12a1-c1ef-4b2f-aef7-42daaabd2a1f",
   "metadata": {
    "tags": []
   },
   "outputs": [
    {
     "name": "stdout",
     "output_type": "stream",
     "text": [
      "Some of the commonly used libraries used by data scientists include:\n",
      "1.Pandas \n",
      "2.Numpy\n",
      "3.Tensor Flow\n"
     ]
    }
   ],
   "source": [
    "print(\"Some of the commonly used libraries used by data scientists include:\")\n",
    "print(\"1.Pandas \")\n",
    "print(\"2.Numpy\")\n",
    "print(\"3.Tensor Flow\")"
   ]
  },
  {
   "cell_type": "markdown",
   "id": "aea40f05-28dd-4ebb-8c57-1f73a96b6892",
   "metadata": {
    "tags": []
   },
   "source": [
    "|Data Science Tools|\n",
    "|----|\n",
    "|Google Colab|\n",
    "|Jupyter Notebook|\n",
    "|Spyder|"
   ]
  },
  {
   "cell_type": "markdown",
   "id": "258afa9a-2f55-49a4-8386-6c1a86e4bf64",
   "metadata": {
    "tags": []
   },
   "source": [
    "### Below are few expressions of evaluating arthimetic expression examples\n"
   ]
  },
  {
   "cell_type": "code",
   "execution_count": 2,
   "id": "23fece03-e369-43ce-a201-80cda44e143a",
   "metadata": {
    "tags": []
   },
   "outputs": [
    {
     "name": "stdout",
     "output_type": "stream",
     "text": [
      "This is simple arithematic expression to  multiply and then add numbers\n",
      "17\n"
     ]
    }
   ],
   "source": [
    "print(\"This is simple arithematic expression to  multiply and then add numbers\")\n",
    "z = (3*4) + 5\n",
    "print(z)"
   ]
  },
  {
   "cell_type": "code",
   "execution_count": null,
   "id": "9ac6aa62-1436-49cd-965a-82877d7feb56",
   "metadata": {
    "tags": []
   },
   "outputs": [],
   "source": [
    "print(\"This will convert 200 minutes into hours by dividing by 60\")\n",
    "min = 200\n",
    "hour = 200 / 60\n",
    "print(hour)"
   ]
  },
  {
   "cell_type": "markdown",
   "id": "ed66e63e-4e1b-4c22-b951-6d7cd891b2d5",
   "metadata": {
    "tags": []
   },
   "source": [
    "## Author\n",
    "Adan Shahid"
   ]
  },
  {
   "cell_type": "code",
   "execution_count": null,
   "id": "8ef1f02e-2fa0-4e72-a0b4-2a3d7aad8ef8",
   "metadata": {},
   "outputs": [],
   "source": []
  }
 ],
 "metadata": {
  "kernelspec": {
   "display_name": "Python",
   "language": "python",
   "name": "conda-env-python-py"
  },
  "language_info": {
   "codemirror_mode": {
    "name": "ipython",
    "version": 3
   },
   "file_extension": ".py",
   "mimetype": "text/x-python",
   "name": "python",
   "nbconvert_exporter": "python",
   "pygments_lexer": "ipython3",
   "version": "3.7.12"
  }
 },
 "nbformat": 4,
 "nbformat_minor": 5
}
